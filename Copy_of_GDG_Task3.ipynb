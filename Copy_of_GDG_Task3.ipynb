{
  "cells": [
    {
      "cell_type": "markdown",
      "metadata": {
        "id": "view-in-github",
        "colab_type": "text"
      },
      "source": [
        "<a href=\"https://colab.research.google.com/github/netrasangani/Netra_Sangani_GDG_Tasks/blob/Task---3/Copy_of_GDG_Task3.ipynb\" target=\"_parent\"><img src=\"https://colab.research.google.com/assets/colab-badge.svg\" alt=\"Open In Colab\"/></a>"
      ]
    },
    {
      "cell_type": "markdown",
      "metadata": {
        "id": "MBQz5ZKhghSd"
      },
      "source": [
        "#**GDG TASK 3**\n",
        "\n",
        "![GDG On Campus - Centered - 10x10 White.png](data:image/png;base64,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)"
      ]
    },
    {
      "cell_type": "markdown",
      "metadata": {
        "id": "BrMOt2M-gmBC"
      },
      "source": [
        "**Unsupervised Learning**\n",
        "\n",
        "Clustering is an unsupervised learning technique used to group similar data points together. It's widely used in various applications like customer segmentation, anomaly detection, and more. In this task, we'll explore different clustering algorithms and visualize their results.\n",
        "\n",
        "We will work with the **Samsung Human Activity Recognition dataset**. The data comes from the accelerometers and gyros of Samsung mobile phones, the type of activity of a person with a phone in his pocket is also known - whether he walked, stood, lay, sat or walked up or down the stairs.\n",
        "\n",
        "We imagine that the type of activity is unknown to us (unlabelled), and we will try to cluster people purely on the basis of available features.\n",
        "\n",
        "The dataset that will be used can be found here - [DATA](https://drive.google.com/drive/folders/1YiphBhq_SAN5JvCFrorv3pXIvQ22Jtat)"
      ]
    },
    {
      "cell_type": "markdown",
      "metadata": {
        "id": "uz7JdTs3Z3Dj"
      },
      "source": [
        "# Importing and Installing all the necessary libaries"
      ]
    },
    {
      "cell_type": "code",
      "execution_count": 32,
      "metadata": {
        "id": "5u6ibV4hOTZ4"
      },
      "outputs": [],
      "source": [
        "!pip install exkmc yellowbrick -q\n",
        "\n",
        "import numpy as np\n",
        "import pandas as pd\n",
        "import matplotlib.pyplot as plt\n",
        "from mpl_toolkits.mplot3d import Axes3D\n",
        "\n",
        "from sklearn.cluster import KMeans, AgglomerativeClustering, DBSCAN, MeanShift, SpectralClustering\n",
        "from sklearn.metrics import silhouette_score\n",
        "from sklearn.preprocessing import StandardScaler\n",
        "from sklearn.decomposition import PCA\n",
        "\n",
        "from yellowbrick.cluster import KElbowVisualizer\n",
        "from ExKMC.Tree import Tree\n",
        "\n",
        "from IPython.display import Image,display\n",
        "from ipywidgets import interact\n",
        "import os\n",
        "\n",
        "import warnings\n",
        "warnings.filterwarnings(\"ignore\")"
      ]
    },
    {
      "cell_type": "markdown",
      "metadata": {
        "id": "cFD1y3-5P5WU"
      },
      "source": [
        "Mount your google drive"
      ]
    },
    {
      "cell_type": "code",
      "execution_count": 33,
      "metadata": {
        "id": "9gELzGeQP9H2",
        "colab": {
          "base_uri": "https://localhost:8080/"
        },
        "outputId": "1e357827-edec-46e6-d779-325ca1b35c77"
      },
      "outputs": [
        {
          "output_type": "stream",
          "name": "stdout",
          "text": [
            "Mounted at /content/gdrive\n"
          ]
        }
      ],
      "source": [
        "# code here\n",
        "from google.colab import drive\n",
        "drive.mount('/content/gdrive')"
      ]
    },
    {
      "cell_type": "markdown",
      "source": [
        "# Data Loading"
      ],
      "metadata": {
        "id": "_wA7A1ajAdrb"
      }
    },
    {
      "cell_type": "markdown",
      "metadata": {
        "id": "b839AteLQBDr"
      },
      "source": [
        "Mention the path of dataset, 4 paths for the 4 different txt files."
      ]
    },
    {
      "cell_type": "code",
      "execution_count": 34,
      "metadata": {
        "id": "qrTbJ3CjQHSh"
      },
      "outputs": [],
      "source": [
        "# Mention the path in the strings below\n",
        "samsung_train_path = '/content/gdrive/My Drive/gdgweek3/samsung_train.txt'\n",
        "samsung_train_labels_path = '/content/gdrive/My Drive/gdgweek3/samsung_train_labels.txt'\n",
        "samsung_test_path = '/content/gdrive/My Drive/gdgweek3/samsung_test.txt'\n",
        "samsung_test_labels_path = '/content/gdrive/My Drive/gdgweek3/samsung_test_labels.txt'"
      ]
    },
    {
      "cell_type": "markdown",
      "metadata": {
        "id": "15-B6CuRQjXD"
      },
      "source": [
        "This time we will be using np.loadtxt() for reading our data. Code for the same has been given (do not modify), but we expect you to understand the working of it.\n",
        "\n",
        "Ref.: https://www.geeksforgeeks.org/numpy-loadtxt-in-python/"
      ]
    },
    {
      "cell_type": "code",
      "execution_count": 35,
      "metadata": {
        "id": "9Zi1udDJQh8j",
        "colab": {
          "base_uri": "https://localhost:8080/",
          "height": 356
        },
        "outputId": "b57c92e8-d78f-4c41-f01c-cd4ba265333a"
      },
      "outputs": [
        {
          "output_type": "error",
          "ename": "FileNotFoundError",
          "evalue": "/content/gdrive/My Drive/gdgweek3/samsung_train.txt not found.",
          "traceback": [
            "\u001b[0;31m---------------------------------------------------------------------------\u001b[0m",
            "\u001b[0;31mFileNotFoundError\u001b[0m                         Traceback (most recent call last)",
            "\u001b[0;32m<ipython-input-35-612a3703e5b1>\u001b[0m in \u001b[0;36m<cell line: 1>\u001b[0;34m()\u001b[0m\n\u001b[0;32m----> 1\u001b[0;31m \u001b[0mX_train\u001b[0m \u001b[0;34m=\u001b[0m \u001b[0mnp\u001b[0m\u001b[0;34m.\u001b[0m\u001b[0mloadtxt\u001b[0m\u001b[0;34m(\u001b[0m\u001b[0msamsung_train_path\u001b[0m\u001b[0;34m)\u001b[0m\u001b[0;34m\u001b[0m\u001b[0;34m\u001b[0m\u001b[0m\n\u001b[0m\u001b[1;32m      2\u001b[0m y_train = np.loadtxt(samsung_train_labels_path).astype(float\n\u001b[1;32m      3\u001b[0m                                                        )\n\u001b[1;32m      4\u001b[0m \u001b[0;34m\u001b[0m\u001b[0m\n\u001b[1;32m      5\u001b[0m \u001b[0mX_test\u001b[0m \u001b[0;34m=\u001b[0m \u001b[0mnp\u001b[0m\u001b[0;34m.\u001b[0m\u001b[0mloadtxt\u001b[0m\u001b[0;34m(\u001b[0m\u001b[0msamsung_test_path\u001b[0m\u001b[0;34m)\u001b[0m\u001b[0;34m\u001b[0m\u001b[0;34m\u001b[0m\u001b[0m\n",
            "\u001b[0;32m/usr/local/lib/python3.10/dist-packages/numpy/lib/npyio.py\u001b[0m in \u001b[0;36mloadtxt\u001b[0;34m(fname, dtype, comments, delimiter, converters, skiprows, usecols, unpack, ndmin, encoding, max_rows, quotechar, like)\u001b[0m\n\u001b[1;32m   1371\u001b[0m         \u001b[0mdelimiter\u001b[0m \u001b[0;34m=\u001b[0m \u001b[0mdelimiter\u001b[0m\u001b[0;34m.\u001b[0m\u001b[0mdecode\u001b[0m\u001b[0;34m(\u001b[0m\u001b[0;34m'latin1'\u001b[0m\u001b[0;34m)\u001b[0m\u001b[0;34m\u001b[0m\u001b[0;34m\u001b[0m\u001b[0m\n\u001b[1;32m   1372\u001b[0m \u001b[0;34m\u001b[0m\u001b[0m\n\u001b[0;32m-> 1373\u001b[0;31m     arr = _read(fname, dtype=dtype, comment=comment, delimiter=delimiter,\n\u001b[0m\u001b[1;32m   1374\u001b[0m                 \u001b[0mconverters\u001b[0m\u001b[0;34m=\u001b[0m\u001b[0mconverters\u001b[0m\u001b[0;34m,\u001b[0m \u001b[0mskiplines\u001b[0m\u001b[0;34m=\u001b[0m\u001b[0mskiprows\u001b[0m\u001b[0;34m,\u001b[0m \u001b[0musecols\u001b[0m\u001b[0;34m=\u001b[0m\u001b[0musecols\u001b[0m\u001b[0;34m,\u001b[0m\u001b[0;34m\u001b[0m\u001b[0;34m\u001b[0m\u001b[0m\n\u001b[1;32m   1375\u001b[0m                 \u001b[0munpack\u001b[0m\u001b[0;34m=\u001b[0m\u001b[0munpack\u001b[0m\u001b[0;34m,\u001b[0m \u001b[0mndmin\u001b[0m\u001b[0;34m=\u001b[0m\u001b[0mndmin\u001b[0m\u001b[0;34m,\u001b[0m \u001b[0mencoding\u001b[0m\u001b[0;34m=\u001b[0m\u001b[0mencoding\u001b[0m\u001b[0;34m,\u001b[0m\u001b[0;34m\u001b[0m\u001b[0;34m\u001b[0m\u001b[0m\n",
            "\u001b[0;32m/usr/local/lib/python3.10/dist-packages/numpy/lib/npyio.py\u001b[0m in \u001b[0;36m_read\u001b[0;34m(fname, delimiter, comment, quote, imaginary_unit, usecols, skiplines, max_rows, converters, ndmin, unpack, dtype, encoding)\u001b[0m\n\u001b[1;32m    990\u001b[0m             \u001b[0mfname\u001b[0m \u001b[0;34m=\u001b[0m \u001b[0mos\u001b[0m\u001b[0;34m.\u001b[0m\u001b[0mfspath\u001b[0m\u001b[0;34m(\u001b[0m\u001b[0mfname\u001b[0m\u001b[0;34m)\u001b[0m\u001b[0;34m\u001b[0m\u001b[0;34m\u001b[0m\u001b[0m\n\u001b[1;32m    991\u001b[0m         \u001b[0;32mif\u001b[0m \u001b[0misinstance\u001b[0m\u001b[0;34m(\u001b[0m\u001b[0mfname\u001b[0m\u001b[0;34m,\u001b[0m \u001b[0mstr\u001b[0m\u001b[0;34m)\u001b[0m\u001b[0;34m:\u001b[0m\u001b[0;34m\u001b[0m\u001b[0;34m\u001b[0m\u001b[0m\n\u001b[0;32m--> 992\u001b[0;31m             \u001b[0mfh\u001b[0m \u001b[0;34m=\u001b[0m \u001b[0mnp\u001b[0m\u001b[0;34m.\u001b[0m\u001b[0mlib\u001b[0m\u001b[0;34m.\u001b[0m\u001b[0m_datasource\u001b[0m\u001b[0;34m.\u001b[0m\u001b[0mopen\u001b[0m\u001b[0;34m(\u001b[0m\u001b[0mfname\u001b[0m\u001b[0;34m,\u001b[0m \u001b[0;34m'rt'\u001b[0m\u001b[0;34m,\u001b[0m \u001b[0mencoding\u001b[0m\u001b[0;34m=\u001b[0m\u001b[0mencoding\u001b[0m\u001b[0;34m)\u001b[0m\u001b[0;34m\u001b[0m\u001b[0;34m\u001b[0m\u001b[0m\n\u001b[0m\u001b[1;32m    993\u001b[0m             \u001b[0;32mif\u001b[0m \u001b[0mencoding\u001b[0m \u001b[0;32mis\u001b[0m \u001b[0;32mNone\u001b[0m\u001b[0;34m:\u001b[0m\u001b[0;34m\u001b[0m\u001b[0;34m\u001b[0m\u001b[0m\n\u001b[1;32m    994\u001b[0m                 \u001b[0mencoding\u001b[0m \u001b[0;34m=\u001b[0m \u001b[0mgetattr\u001b[0m\u001b[0;34m(\u001b[0m\u001b[0mfh\u001b[0m\u001b[0;34m,\u001b[0m \u001b[0;34m'encoding'\u001b[0m\u001b[0;34m,\u001b[0m \u001b[0;34m'latin1'\u001b[0m\u001b[0;34m)\u001b[0m\u001b[0;34m\u001b[0m\u001b[0;34m\u001b[0m\u001b[0m\n",
            "\u001b[0;32m/usr/local/lib/python3.10/dist-packages/numpy/lib/_datasource.py\u001b[0m in \u001b[0;36mopen\u001b[0;34m(path, mode, destpath, encoding, newline)\u001b[0m\n\u001b[1;32m    191\u001b[0m \u001b[0;34m\u001b[0m\u001b[0m\n\u001b[1;32m    192\u001b[0m     \u001b[0mds\u001b[0m \u001b[0;34m=\u001b[0m \u001b[0mDataSource\u001b[0m\u001b[0;34m(\u001b[0m\u001b[0mdestpath\u001b[0m\u001b[0;34m)\u001b[0m\u001b[0;34m\u001b[0m\u001b[0;34m\u001b[0m\u001b[0m\n\u001b[0;32m--> 193\u001b[0;31m     \u001b[0;32mreturn\u001b[0m \u001b[0mds\u001b[0m\u001b[0;34m.\u001b[0m\u001b[0mopen\u001b[0m\u001b[0;34m(\u001b[0m\u001b[0mpath\u001b[0m\u001b[0;34m,\u001b[0m \u001b[0mmode\u001b[0m\u001b[0;34m,\u001b[0m \u001b[0mencoding\u001b[0m\u001b[0;34m=\u001b[0m\u001b[0mencoding\u001b[0m\u001b[0;34m,\u001b[0m \u001b[0mnewline\u001b[0m\u001b[0;34m=\u001b[0m\u001b[0mnewline\u001b[0m\u001b[0;34m)\u001b[0m\u001b[0;34m\u001b[0m\u001b[0;34m\u001b[0m\u001b[0m\n\u001b[0m\u001b[1;32m    194\u001b[0m \u001b[0;34m\u001b[0m\u001b[0m\n\u001b[1;32m    195\u001b[0m \u001b[0;34m\u001b[0m\u001b[0m\n",
            "\u001b[0;32m/usr/local/lib/python3.10/dist-packages/numpy/lib/_datasource.py\u001b[0m in \u001b[0;36mopen\u001b[0;34m(self, path, mode, encoding, newline)\u001b[0m\n\u001b[1;32m    531\u001b[0m                                       encoding=encoding, newline=newline)\n\u001b[1;32m    532\u001b[0m         \u001b[0;32melse\u001b[0m\u001b[0;34m:\u001b[0m\u001b[0;34m\u001b[0m\u001b[0;34m\u001b[0m\u001b[0m\n\u001b[0;32m--> 533\u001b[0;31m             \u001b[0;32mraise\u001b[0m \u001b[0mFileNotFoundError\u001b[0m\u001b[0;34m(\u001b[0m\u001b[0;34mf\"{path} not found.\"\u001b[0m\u001b[0;34m)\u001b[0m\u001b[0;34m\u001b[0m\u001b[0;34m\u001b[0m\u001b[0m\n\u001b[0m\u001b[1;32m    534\u001b[0m \u001b[0;34m\u001b[0m\u001b[0m\n\u001b[1;32m    535\u001b[0m \u001b[0;34m\u001b[0m\u001b[0m\n",
            "\u001b[0;31mFileNotFoundError\u001b[0m: /content/gdrive/My Drive/gdgweek3/samsung_train.txt not found."
          ]
        }
      ],
      "source": [
        "X_train = np.loadtxt(samsung_train_path)\n",
        "y_train = np.loadtxt(samsung_train_labels_path).astype(float\n",
        "                                                       )\n",
        "\n",
        "X_test = np.loadtxt(samsung_test_path)\n",
        "y_test = np.loadtxt(samsung_test_labels_path).astype(float\n",
        ")"
      ]
    },
    {
      "cell_type": "markdown",
      "metadata": {
        "id": "plA5hpftRMRC"
      },
      "source": [
        "Just to confirm that your data has been loaded properly, execute the below cell. You won't receive any error if everything is correct.\n",
        "\n",
        "NOTE: If you get an Assertion error, then you probably did something wrong above."
      ]
    },
    {
      "cell_type": "code",
      "execution_count": null,
      "metadata": {
        "id": "WvSJb1_aRpA-"
      },
      "outputs": [],
      "source": [
        "# Checking dimensions\n",
        "assert(X_train.shape == (7352, 561) and y_train.shape == (7352,))\n",
        "assert(X_test.shape == (2947, 561) and y_test.shape == (2947,))"
      ]
    },
    {
      "cell_type": "markdown",
      "metadata": {
        "id": "ADK9DkH5Zuzd"
      },
      "source": [
        "# **Pre-processing**"
      ]
    },
    {
      "cell_type": "markdown",
      "metadata": {
        "id": "v_MDGeiORyQW"
      },
      "source": [
        "For clustering, we do not need a target vector, so we'll work with the combination of training and test samples. Merge *X_train* with *X_test*, and *y_train* with *y_test*.\n",
        "\n",
        "Hint:\n",
        "1. Merge X_train and X_test into X {use [np.vstack()](https://numpy.org/doc/stable/reference/generated/numpy.vstack.html)}\n",
        "2. Merge y_train and y_test into y {use [np.hstack()](https://numpy.org/doc/stable/reference/generated/numpy.hstack.html)}"
      ]
    },
    {
      "cell_type": "code",
      "execution_count": null,
      "metadata": {
        "id": "Va97TqkyR8x4"
      },
      "outputs": [],
      "source": [
        "X = np.vstack((X_train, X_test))\n",
        "y = np.hstack((y_train, y_test))"
      ]
    },
    {
      "cell_type": "markdown",
      "metadata": {
        "id": "hMgj52ymSoVX"
      },
      "source": [
        "Using numpy, print the unique values of the labels of the target class (i.e. \"y\").\n",
        "\n",
        "Ref.: https://www.geeksforgeeks.org/python-numpy-np-unique-method/\n"
      ]
    },
    {
      "cell_type": "code",
      "execution_count": null,
      "metadata": {
        "id": "M7lVZbEDTQNJ"
      },
      "outputs": [],
      "source": [
        "print(np.unique(y))"
      ]
    },
    {
      "cell_type": "markdown",
      "metadata": {
        "id": "ob_G2AriTVN0"
      },
      "source": [
        "Store the size (or number) of unique values of the labels of the target class (i.e. \"y\") in a variable named n_classes."
      ]
    },
    {
      "cell_type": "code",
      "execution_count": 37,
      "metadata": {
        "id": "8qGy5nHoTqeM",
        "colab": {
          "base_uri": "https://localhost:8080/",
          "height": 158
        },
        "outputId": "ecc3f735-53f5-4831-868a-b38a657b1fd6"
      },
      "outputs": [
        {
          "output_type": "error",
          "ename": "NameError",
          "evalue": "name 'y' is not defined",
          "traceback": [
            "\u001b[0;31m---------------------------------------------------------------------------\u001b[0m",
            "\u001b[0;31mNameError\u001b[0m                                 Traceback (most recent call last)",
            "\u001b[0;32m<ipython-input-37-6c2c097eaa80>\u001b[0m in \u001b[0;36m<cell line: 2>\u001b[0;34m()\u001b[0m\n\u001b[1;32m      1\u001b[0m \u001b[0;31m# Uncomment the below line and code\u001b[0m\u001b[0;34m\u001b[0m\u001b[0;34m\u001b[0m\u001b[0m\n\u001b[0;32m----> 2\u001b[0;31m \u001b[0mn_classes\u001b[0m \u001b[0;34m=\u001b[0m \u001b[0mnp\u001b[0m\u001b[0;34m.\u001b[0m\u001b[0munique\u001b[0m\u001b[0;34m(\u001b[0m\u001b[0my\u001b[0m\u001b[0;34m)\u001b[0m\u001b[0;34m.\u001b[0m\u001b[0mshape\u001b[0m\u001b[0;34m[\u001b[0m\u001b[0;36m0\u001b[0m\u001b[0;34m]\u001b[0m\u001b[0;34m\u001b[0m\u001b[0;34m\u001b[0m\u001b[0m\n\u001b[0m",
            "\u001b[0;31mNameError\u001b[0m: name 'y' is not defined"
          ]
        }
      ],
      "source": [
        "# Uncomment the below line and code\n",
        "n_classes = np.unique(y).shape[0]"
      ]
    },
    {
      "cell_type": "code",
      "source": [
        "print(n_classes)"
      ],
      "metadata": {
        "colab": {
          "base_uri": "https://localhost:8080/",
          "height": 141
        },
        "id": "wSKhEoeBGG9Y",
        "outputId": "6faee34b-ebe7-4da2-a191-911723bc940b"
      },
      "execution_count": 38,
      "outputs": [
        {
          "output_type": "error",
          "ename": "NameError",
          "evalue": "name 'n_classes' is not defined",
          "traceback": [
            "\u001b[0;31m---------------------------------------------------------------------------\u001b[0m",
            "\u001b[0;31mNameError\u001b[0m                                 Traceback (most recent call last)",
            "\u001b[0;32m<ipython-input-38-49217c423d49>\u001b[0m in \u001b[0;36m<cell line: 1>\u001b[0;34m()\u001b[0m\n\u001b[0;32m----> 1\u001b[0;31m \u001b[0mprint\u001b[0m\u001b[0;34m(\u001b[0m\u001b[0mn_classes\u001b[0m\u001b[0;34m)\u001b[0m\u001b[0;34m\u001b[0m\u001b[0;34m\u001b[0m\u001b[0m\n\u001b[0m",
            "\u001b[0;31mNameError\u001b[0m: name 'n_classes' is not defined"
          ]
        }
      ]
    },
    {
      "cell_type": "code",
      "execution_count": 39,
      "metadata": {
        "id": "BYhLJBWz4f_B"
      },
      "outputs": [],
      "source": [
        "activities = [\n",
        "    \"walking\",\n",
        "    \"going up the stairs\",\n",
        "    \"going down the stairs\",\n",
        "    \"sitting\",\n",
        "    \"standing\",\n",
        "    \"lying down\"\n",
        "]"
      ]
    },
    {
      "cell_type": "markdown",
      "metadata": {
        "id": "-6HZf8f4UNHO"
      },
      "source": [
        "Here the 6 labels (or classes) correspond to:\n",
        "- 1 - walking\n",
        "- 2 - going up the stairs\n",
        "- 3 - going down the stairs\n",
        "- 4 - sitting\n",
        "- 5 - standing\n",
        "- 6 - lying down\n",
        "\n",
        "So we wish to create 6 clusters where each cluster can represent one of the above activities."
      ]
    },
    {
      "cell_type": "markdown",
      "metadata": {
        "id": "9WPLZKLBUSzQ"
      },
      "source": [
        "Scale the sample (i.e. X) using [`StandardScaler()`](https://www.digitalocean.com/community/tutorials/standardscaler-function-in-python)"
      ]
    },
    {
      "cell_type": "code",
      "execution_count": 40,
      "metadata": {
        "id": "FTToQBJuUoTC",
        "colab": {
          "base_uri": "https://localhost:8080/",
          "height": 176
        },
        "outputId": "54197be3-566a-465e-814d-b9f0150aecd7"
      },
      "outputs": [
        {
          "output_type": "error",
          "ename": "NameError",
          "evalue": "name 'X' is not defined",
          "traceback": [
            "\u001b[0;31m---------------------------------------------------------------------------\u001b[0m",
            "\u001b[0;31mNameError\u001b[0m                                 Traceback (most recent call last)",
            "\u001b[0;32m<ipython-input-40-f4ce6089b729>\u001b[0m in \u001b[0;36m<cell line: 5>\u001b[0;34m()\u001b[0m\n\u001b[1;32m      3\u001b[0m \u001b[0mscaler\u001b[0m \u001b[0;34m=\u001b[0m \u001b[0mStandardScaler\u001b[0m\u001b[0;34m(\u001b[0m\u001b[0;34m)\u001b[0m\u001b[0;34m\u001b[0m\u001b[0;34m\u001b[0m\u001b[0m\n\u001b[1;32m      4\u001b[0m \u001b[0;31m# use the above instance to fit_transform \"X\" and assign it into a new variable \"X_scaled\"\u001b[0m\u001b[0;34m\u001b[0m\u001b[0;34m\u001b[0m\u001b[0m\n\u001b[0;32m----> 5\u001b[0;31m \u001b[0mX_scaled\u001b[0m \u001b[0;34m=\u001b[0m \u001b[0mscaler\u001b[0m\u001b[0;34m.\u001b[0m\u001b[0mfit_transform\u001b[0m\u001b[0;34m(\u001b[0m\u001b[0mX\u001b[0m\u001b[0;34m)\u001b[0m\u001b[0;34m\u001b[0m\u001b[0;34m\u001b[0m\u001b[0m\n\u001b[0m",
            "\u001b[0;31mNameError\u001b[0m: name 'X' is not defined"
          ]
        }
      ],
      "source": [
        "from sklearn.preprocessing import StandardScaler\n",
        "# initialize an instance of StandardScaler()\n",
        "scaler = StandardScaler()\n",
        "# use the above instance to fit_transform \"X\" and assign it into a new variable \"X_scaled\"\n",
        "X_scaled = scaler.fit_transform(X)"
      ]
    },
    {
      "cell_type": "markdown",
      "metadata": {
        "id": "Bz8VXWqwVCsm"
      },
      "source": [
        "# **Dimensionality Reduction using PCA**"
      ]
    },
    {
      "cell_type": "markdown",
      "metadata": {
        "id": "hGbxzKQqwHAN"
      },
      "source": [
        "Ref.: https://scikit-learn.org/stable/modules/generated/sklearn.decomposition.PCA.html"
      ]
    },
    {
      "cell_type": "code",
      "execution_count": 41,
      "metadata": {
        "id": "lOcq3tfr40pF"
      },
      "outputs": [],
      "source": [
        "# Import PCA from sklearn.decomposition\n",
        "from sklearn.decomposition import PCA"
      ]
    },
    {
      "cell_type": "markdown",
      "metadata": {
        "id": "h5z2fN3caBUP"
      },
      "source": [
        "Reduce the number of dimensions using PCA,\n",
        "\n",
        "Hints:\n",
        "1. Initialise instance of PCA and set *n_components* to 0.9 and *random_state* to 17.\n",
        "2. Fit X_scaled over the PCA instance created\n",
        "3. Transform X_scaled over the fitted PCA instance and store it in a variable named X_pca.\n",
        "\n",
        "Theory: https://www.analyticsvidhya.com/blog/2022/07/principal-component-analysis-beginner-friendly/ and https://en.wikipedia.org/wiki/Principal_component_analysis\n",
        "\n",
        "Theory + Implementation.: https://youtu.be/OFyyWcw2cyM (Jump to timestamp - 13:50 for PCA implementaion)"
      ]
    },
    {
      "cell_type": "code",
      "execution_count": 42,
      "metadata": {
        "id": "-d0V1DFKV8-G",
        "colab": {
          "base_uri": "https://localhost:8080/",
          "height": 193
        },
        "outputId": "97f82d12-a67d-4044-894c-7593a36bd23e"
      },
      "outputs": [
        {
          "output_type": "error",
          "ename": "NameError",
          "evalue": "name 'X_scaled' is not defined",
          "traceback": [
            "\u001b[0;31m---------------------------------------------------------------------------\u001b[0m",
            "\u001b[0;31mNameError\u001b[0m                                 Traceback (most recent call last)",
            "\u001b[0;32m<ipython-input-42-2d4cf7a45156>\u001b[0m in \u001b[0;36m<cell line: 3>\u001b[0;34m()\u001b[0m\n\u001b[1;32m      1\u001b[0m \u001b[0;31m# code here\u001b[0m\u001b[0;34m\u001b[0m\u001b[0;34m\u001b[0m\u001b[0m\n\u001b[1;32m      2\u001b[0m \u001b[0mpc\u001b[0m \u001b[0;34m=\u001b[0m \u001b[0mPCA\u001b[0m\u001b[0;34m(\u001b[0m\u001b[0mn_components\u001b[0m\u001b[0;34m=\u001b[0m\u001b[0;36m0.9\u001b[0m\u001b[0;34m,\u001b[0m\u001b[0mrandom_state\u001b[0m\u001b[0;34m=\u001b[0m\u001b[0;36m17\u001b[0m\u001b[0;34m)\u001b[0m\u001b[0;34m\u001b[0m\u001b[0;34m\u001b[0m\u001b[0m\n\u001b[0;32m----> 3\u001b[0;31m \u001b[0mpc\u001b[0m\u001b[0;34m.\u001b[0m\u001b[0mfit\u001b[0m\u001b[0;34m(\u001b[0m\u001b[0mX_scaled\u001b[0m\u001b[0;34m)\u001b[0m\u001b[0;34m\u001b[0m\u001b[0;34m\u001b[0m\u001b[0m\n\u001b[0m\u001b[1;32m      4\u001b[0m \u001b[0mX_pca\u001b[0m \u001b[0;34m=\u001b[0m \u001b[0mpc\u001b[0m\u001b[0;34m.\u001b[0m\u001b[0mtransform\u001b[0m\u001b[0;34m(\u001b[0m\u001b[0mX_scaled\u001b[0m\u001b[0;34m)\u001b[0m\u001b[0;34m\u001b[0m\u001b[0;34m\u001b[0m\u001b[0m\n",
            "\u001b[0;31mNameError\u001b[0m: name 'X_scaled' is not defined"
          ]
        }
      ],
      "source": [
        "# code here\n",
        "pc = PCA(n_components=0.9,random_state=17)\n",
        "pc.fit(X_scaled)\n",
        "X_pca = pc.transform(X_scaled)"
      ]
    },
    {
      "cell_type": "markdown",
      "metadata": {
        "id": "BX98d0adV8U8"
      },
      "source": [
        "Let's check the shape of X_pca."
      ]
    },
    {
      "cell_type": "code",
      "execution_count": 43,
      "metadata": {
        "id": "00cwC1hxXMZy",
        "colab": {
          "base_uri": "https://localhost:8080/",
          "height": 176
        },
        "outputId": "38a32c49-66bf-49e4-bab5-378f462eba7a"
      },
      "outputs": [
        {
          "output_type": "error",
          "ename": "NameError",
          "evalue": "name 'X_pca' is not defined",
          "traceback": [
            "\u001b[0;31m---------------------------------------------------------------------------\u001b[0m",
            "\u001b[0;31mNameError\u001b[0m                                 Traceback (most recent call last)",
            "\u001b[0;32m<ipython-input-43-45f9ed8773df>\u001b[0m in \u001b[0;36m<cell line: 2>\u001b[0;34m()\u001b[0m\n\u001b[1;32m      1\u001b[0m \u001b[0;31m# code here\u001b[0m\u001b[0;34m\u001b[0m\u001b[0;34m\u001b[0m\u001b[0m\n\u001b[0;32m----> 2\u001b[0;31m \u001b[0mX_pca\u001b[0m\u001b[0;34m.\u001b[0m\u001b[0mshape\u001b[0m\u001b[0;34m\u001b[0m\u001b[0;34m\u001b[0m\u001b[0m\n\u001b[0m\u001b[1;32m      3\u001b[0m \u001b[0;31m# Should print (10299, 65) if everything is correct.\u001b[0m\u001b[0;34m\u001b[0m\u001b[0;34m\u001b[0m\u001b[0m\n",
            "\u001b[0;31mNameError\u001b[0m: name 'X_pca' is not defined"
          ]
        }
      ],
      "source": [
        "# code here\n",
        "X_pca.shape\n",
        "# Should print (10299, 65) if everything is correct."
      ]
    },
    {
      "cell_type": "markdown",
      "metadata": {
        "id": "6MBugssm6HkA"
      },
      "source": [
        "Shape of X was (10299, 561) i.e 561 dimensions\n",
        "\n",
        "Shape of X_pca is (10299, 65) i.e. 65 dimenisons\n",
        "\n",
        "Hence we have successfully reduced dimensions using PCA."
      ]
    },
    {
      "cell_type": "markdown",
      "source": [
        "# K-Means Clustering (Partition-Based Clustering)"
      ],
      "metadata": {
        "id": "ZovDqu-15lOv"
      }
    },
    {
      "cell_type": "markdown",
      "source": [
        "K-means clustering is an essential partitioning algorithm used to categorize a dataset into 'k' distinct, non-overlapping clusters. Each data point is assigned to the cluster with the nearest mean or centroid, symbolizing the cluster's center. The primary goal of the algorithm is to minimize the sum of squared distances between data points and their respective cluster centroids.\n",
        "\n",
        "For an in-depth exploration of K-means clustering, you can refer to this comprehensive article on Analytics Vidhya: [Comprehensive Guide to K-means Clustering](https://www.analyticsvidhya.com/blog/2019/08/comprehensive-guide-k-means-clustering/).\n",
        "\n",
        "For a deeper understanding of the mathematical underpinnings of K-means clustering, Wikipedia is a valuable resource. You can explore the Wikipedia page on K-means clustering for a detailed description: [K-means Clustering Wikipedia](https://en.wikipedia.org/wiki/K-means_clustering). This will help you grasp the mathematical intricacies of the algorithm and its applications in machine learning."
      ],
      "metadata": {
        "id": "4W28NnNT5wfI"
      }
    },
    {
      "cell_type": "markdown",
      "source": [
        "### 2 Dimensional Visualization"
      ],
      "metadata": {
        "id": "JKcle1aX6sdS"
      }
    },
    {
      "cell_type": "code",
      "execution_count": null,
      "metadata": {
        "id": "rNJUM1QUxda-"
      },
      "outputs": [],
      "source": [
        "## Perform K-Means clustering with interactive widget\n",
        "def kmeans_clustering(num_clusters):\n",
        "    kmeans = KMeans(n_clusters=num_clusters, random_state=42)\n",
        "    kmeans_labels = kmeans.fit_predict(X_pca)\n",
        "\n",
        "    plt.figure(figsize=(8, 6))\n",
        "    plt.scatter(X_pca[:, 0], X_pca[:, 1], c=kmeans_labels, cmap='viridis', edgecolors='k')\n",
        "    plt.scatter(kmeans.cluster_centers_[:, 0], kmeans.cluster_centers_[:, 1], s=200, c='red', marker='X', label='Centroids')\n",
        "    plt.xlabel('Feature 1 (Standardized)')\n",
        "    plt.ylabel('Feature 2 (Standardized)')\n",
        "    plt.title('K-Means Clustering')\n",
        "    plt.legend()\n",
        "    plt.show()\n",
        "\n",
        "low = 2\n",
        "high = 6\n",
        "scale = 1\n",
        "\n",
        "interact(kmeans_clustering, num_clusters=(low,high,scale))"
      ]
    },
    {
      "cell_type": "markdown",
      "source": [
        "### 3 Dimensional Visualization"
      ],
      "metadata": {
        "id": "GtEy2A5S61l1"
      }
    },
    {
      "cell_type": "code",
      "execution_count": null,
      "metadata": {
        "id": "JFsxeDV32aoM"
      },
      "outputs": [],
      "source": [
        "## Perform K-Means clustering with interactive widget\n",
        "def kmeans_3d_clustering(num_clusters):\n",
        "    kmeans_3d = # Write Code Here\n",
        "    kmeans_3d_labels = # Write Code Here\n",
        "\n",
        "    fig = plt.figure(figsize=(10, 8))\n",
        "    ax = fig.add_subplot(111, projection='3d')\n",
        "    ax.scatter(X_pca[:, 0], X_pca[:, 1], X_pca[:, 2], c=kmeans_3d_labels, cmap='viridis', edgecolors='k')\n",
        "    ax.set_xlabel('Feature 1 (Standardized)')\n",
        "    ax.set_ylabel('Feature 2 (Standardized)')\n",
        "    ax.set_zlabel('Feature 3 (Standardized)')\n",
        "    ax.set_title('Kmeans Clustering (3D)')\n",
        "    plt.show()\n",
        "\n",
        "interact(kmeans_3d_clustering, num_clusters=(2, 6, 1))"
      ]
    },
    {
      "cell_type": "markdown",
      "source": [
        "### Elbow Point"
      ],
      "metadata": {
        "id": "PSE3bTuO7MGT"
      }
    },
    {
      "cell_type": "markdown",
      "source": [
        "The \"elbow point\" is a concept often used in the context of K-means clustering to help determine the optimal number of clusters (k) for a given dataset. It is a graphical method that can assist data analysts and machine learning practitioners in finding an appropriate value for k when applying K-means clustering.\n",
        "\n",
        "The rationale behind the elbow point method is that as you increase the number of clusters (k), the sum of squared distances will generally decrease because data points will be closer to their respective cluster centroids. However, beyond a certain point, subdividing the data into more clusters doesn't provide significant improvements in reducing the sum of squared distances. The elbow point represents that optimal trade-off between the number of clusters and the compactness of each cluster.\n",
        "\n",
        "It's important to note that the elbow point method is a heuristic and not a foolproof method for determining the ideal k value. In some cases, the elbow point may not be very pronounced, making it challenging to choose the best k. Additionally, the choice of k should also consider domain knowledge and the specific goals of your analysis.\n"
      ],
      "metadata": {
        "id": "3tePViX966fM"
      }
    },
    {
      "cell_type": "code",
      "execution_count": null,
      "metadata": {
        "id": "eq2DewD32vOE"
      },
      "outputs": [],
      "source": [
        "print('Elbow Method to determine the number of clusters to be formed:')\n",
        "\n",
        "Elbow_M = KElbowVisualizer(KMeans(), k=(2, 10))\n",
        "Elbow_M.fit(X_pca)\n",
        "Elbow_M.show()"
      ]
    },
    {
      "cell_type": "markdown",
      "metadata": {
        "id": "iVrhTKiWh2B3"
      },
      "source": [
        "Similar to classification and regression metrics, we have some [clustering metrics](https://scikit-learn.org/stable/modules/classes.html#clustering-metrics) to evaluate performance.\n",
        "\n",
        "We wll explore one of them: [adjusted_rand_index (ARI)](https://scikit-learn.org/stable/modules/generated/sklearn.metrics.adjusted_rand_score.html)"
      ]
    },
    {
      "cell_type": "code",
      "execution_count": null,
      "metadata": {
        "id": "-xGkCS2SuRyk"
      },
      "outputs": [],
      "source": [
        "from sklearn.metrics.cluster import adjusted_rand_score\n",
        "kmeans = KMeans(n_clusters=6, random_state=42)\n",
        "kmeans_labels = kmeans.fit_predict(X_pca)\n",
        "# code to compute ARI for our KMeans clusters\n",
        "adjusted_rand_score(y, kmeans_labels)"
      ]
    },
    {
      "cell_type": "markdown",
      "source": [
        "### Explainable K-means clustering\n",
        "\n",
        "\n",
        "It refers to an approach that enhances the interpretability and explainability of K-means clustering results. Traditional K-means clustering provides cluster assignments but may not provide intuitive or easily understandable insights into why certain data points belong to a particular cluster. Explainable K-means clustering techniques aim to make the clustering results more transparent and interpretable, often by incorporating additional information or visualization methods. We use the library EXKMC for interpretability. Additional information can be found here - [Explainability](https://www.analyticsvidhya.com/blog/2022/05/adding-explainability-to-clustering/)"
      ],
      "metadata": {
        "id": "ujgk_pZL7Hkx"
      }
    },
    {
      "cell_type": "code",
      "execution_count": null,
      "metadata": {
        "id": "ayCmnW7OyRvG"
      },
      "outputs": [],
      "source": [
        "# Perform Explainable K-Means Clustering with interactive widget\n",
        "def explainable_KMC(num_clusters):\n",
        "    kmeans = # Write Code Here\n",
        "    kmeans_labels = # Write Code Here\n",
        "    tree = Tree(k=num_clusters)\n",
        "    tree.fit(X_pca, kmeans)\n",
        "    tree.plot(filename=\"test\", feature_names=activities)\n",
        "    display(Image(filename='test.gv.png'))\n",
        "    os.remove(\"test.gv.png\")\n",
        "    os.remove(\"test.gv\")\n",
        "\n",
        "interact(explainable_KMC,num_clusters=(,,)) # Fill here"
      ]
    },
    {
      "cell_type": "markdown",
      "source": [
        "# Agglomerative Clustering\n",
        "\n",
        "It is a hierarchical clustering algorithm used in unsupervised machine learning and data analysis. It is a \"bottom-up\" or \"agglomerative\" approach to clustering, where individual data points are initially treated as their own clusters and then progressively merged into larger clusters based on a similarity or distance metric. The result is a tree-like structure called a dendrogram that represents the hierarchical relationships between clusters.\n",
        "\n",
        "As always, You can find more detailed information about hierarchical clustering, including agglomerative clustering, in the Wikipedia article on \"Hierarchical clustering\" at the following link: [Hierarchical Clustering Wikipedia](https://en.wikipedia.org/wiki/Hierarchical_clustering). This is the best resource for hierarchical clustering and it is advisable to go through it twice if possible! :)"
      ],
      "metadata": {
        "id": "vY8zU2337d47"
      }
    },
    {
      "cell_type": "markdown",
      "source": [
        "### 2 Dimensional Visualization"
      ],
      "metadata": {
        "id": "L-lnt8nT8mAi"
      }
    },
    {
      "cell_type": "code",
      "execution_count": null,
      "metadata": {
        "id": "azGS1c0Qxf4a"
      },
      "outputs": [],
      "source": [
        "# Perform Agglomerative clustering with interactive widget\n",
        "def agglomerative_clustering(num_clusters):\n",
        "  agglomerative = AgglomerativeClustering(n_clusters=num_clusters)\n",
        "  agglomerative_labels = # Write Code here\n",
        "\n",
        "  # Write the whole plotting part of the code\n",
        "\n",
        "interact(agglomerative_clustering, num_clusters=(,,)) # Fill here"
      ]
    },
    {
      "cell_type": "markdown",
      "source": [
        "### 3 Dimensional Visualization"
      ],
      "metadata": {
        "id": "eARq-0Lj8pNP"
      }
    },
    {
      "cell_type": "code",
      "execution_count": null,
      "metadata": {
        "id": "BHTPRUfM2rRu"
      },
      "outputs": [],
      "source": [
        "# Perform Agglomerative clustering with interactive widget\n",
        "def agglomerative_3d_clustering(num_clusters):\n",
        "    # Write the whole function :)\n",
        "\n",
        "interact(agglomerative_3d_clustering, num_clusters=(,,)) # Fill here"
      ]
    },
    {
      "cell_type": "code",
      "source": [
        "#You can go through the library of clusteval in order to draw and make dendrograms in your task! Although optional You can perform it if you like :)"
      ],
      "metadata": {
        "id": "XPjyiqgK_AI7"
      },
      "execution_count": null,
      "outputs": []
    },
    {
      "cell_type": "markdown",
      "source": [
        "# DBSCAN Clustering"
      ],
      "metadata": {
        "id": "r8YDFpRq8xdM"
      }
    },
    {
      "cell_type": "markdown",
      "source": [
        "DBSCAN, which stands for Density-Based Spatial Clustering of Applications with Noise, is a popular density-based clustering algorithm in unsupervised machine learning. It is particularly useful for discovering clusters of arbitrary shapes in datasets with varying levels of data density. DBSCAN is known for its ability to handle noise and outliers effectively.\n",
        "\n",
        "As always, You can find additional information about how DBSCAN clustering works in the following article on Analytics Vidhya:\n",
        "\n",
        "[How DBSCAN Clustering Works](https://www.analyticsvidhya.com/blog/2020/09/how-dbscan-clustering-works/#:~:text=DBSCAN%20is%20a%20density%2Dbased,points%20into%20a%20single%20cluster.)\n",
        "\n",
        "This article provides a detailed explanation of DBSCAN, including its underlying concepts, the role of epsilon (ε) and minimum points (MinPts), and practical examples of how to use DBSCAN for clustering. It's a valuable resource for gaining a deeper understanding of the algorithm with Wikipedia as the side resource."
      ],
      "metadata": {
        "id": "n7KS51HT9JNr"
      }
    },
    {
      "cell_type": "markdown",
      "source": [
        "### 2 Dimensional Visualization"
      ],
      "metadata": {
        "id": "nPqdKda_8z-7"
      }
    },
    {
      "cell_type": "code",
      "execution_count": null,
      "metadata": {
        "id": "2p3d4ewgxiNU"
      },
      "outputs": [],
      "source": [
        "# Perform DBSCAN clustering with interactive widget\n",
        "def dbscan_clustering(eps, min_samples):\n",
        "    dbscan = DBSCAN(eps=eps, min_samples=min_samples)\n",
        "    dbscan_labels = # Write Code here\n",
        "\n",
        "    # Write the whole plotting part of the code\n",
        "\n",
        "interact(dbscan_clustering, eps=(,,), min_samples=(,,)) # Fill here"
      ]
    },
    {
      "cell_type": "markdown",
      "source": [
        "### 3 Dimensional Visualization"
      ],
      "metadata": {
        "id": "RWGmr8MU89-A"
      }
    },
    {
      "cell_type": "code",
      "execution_count": null,
      "metadata": {
        "id": "1OM6ATng3Bof"
      },
      "outputs": [],
      "source": [
        "# Perform DBSCAN clustering with interactive widget\n",
        "def dbscan_3d_clustering(eps, min_samples):\n",
        "    # Write the whole code for the function\n",
        "\n",
        "interact(dbscan_3d_clustering, eps=(,,), min_samples=(,,)) # Fill here"
      ]
    },
    {
      "cell_type": "markdown",
      "source": [
        "# Mean Shift Clustering"
      ],
      "metadata": {
        "id": "egVKAGRX9v1F"
      }
    },
    {
      "cell_type": "markdown",
      "source": [
        "It is a density-based clustering algorithm used in unsupervised machine learning and data analysis. Similar to DBSCAN, Mean Shift is capable of discovering clusters with arbitrary shapes and sizes in a dataset. It is particularly useful for applications where the number of clusters is not known in advance and when clusters have varying densities.\n",
        "\n",
        "For more hands-on information about the Mean Shift clustering algorithm, you can refer to this tutorial on Analytics India Magazine:\n",
        "\n",
        "[Hands-On Tutorial on Mean Shift Clustering Algorithm](https://analyticsindiamag.com/hands-on-tutorial-on-mean-shift-clustering-algorithm/)\n",
        "\n",
        "This tutorial provides practical insights into how to implement and use Mean Shift clustering, making it a valuable resource for those looking to apply this clustering technique to real-world data analysis and machine learning tasks especially in the sector of Image Segmentation."
      ],
      "metadata": {
        "id": "jxCzpYt094hN"
      }
    },
    {
      "cell_type": "markdown",
      "source": [
        "### 2 Dimensional Visualization"
      ],
      "metadata": {
        "id": "uUslkPiF_4j5"
      }
    },
    {
      "cell_type": "code",
      "execution_count": null,
      "metadata": {
        "id": "nQM_0FLhxlRb"
      },
      "outputs": [],
      "source": [
        "# Perform Mean Shift clustering with interactive widget\n",
        "def meanshift_clustering(n_band):\n",
        "    mean_shift = MeanShift(bandwidth=n_band)\n",
        "    mean_shift_labels = # Write Code here\n",
        "\n",
        "    # Write the whole plotting part of the code\n",
        "\n",
        "interact(meanshift_clustering, n_band=(,,)) # Fill here"
      ]
    },
    {
      "cell_type": "markdown",
      "source": [
        "### 3 Dimensional Visualization"
      ],
      "metadata": {
        "id": "LViFVKAT_7jj"
      }
    },
    {
      "cell_type": "code",
      "source": [
        "# Perform Mean Shift clustering with interactive widget\n",
        "def meanshift_clustering(n_band):\n",
        "    # Write the whole code for the function\n",
        "\n",
        "interact(meanshift_clustering, n_band=(,,))"
      ],
      "metadata": {
        "id": "P928WNEr_3ul"
      },
      "execution_count": null,
      "outputs": []
    },
    {
      "cell_type": "markdown",
      "metadata": {
        "id": "0NX2YOBtwem7"
      },
      "source": [
        "***Congratulations! You have explored various clustering algorithms. Each algorithm has its own advantages and use cases. Remember, choosing the right algorithm and the right number of clusters is crucial. Feel free to experiment with different datasets and parameters to gain a better understanding.***"
      ]
    },
    {
      "cell_type": "markdown",
      "metadata": {
        "id": "ELzen5eh8s23"
      },
      "source": [
        "# **Compulsory**"
      ]
    },
    {
      "cell_type": "markdown",
      "metadata": {
        "id": "xmUVEvjj822I"
      },
      "source": [
        "You can research and create a short blog on the topic of **Spectral Clustering Algortihm and Divisive Clustering**."
      ]
    },
    {
      "cell_type": "markdown",
      "metadata": {
        "id": "YXcu6k19qWK5"
      },
      "source": [
        "# **End of Task**"
      ]
    }
  ],
  "metadata": {
    "colab": {
      "provenance": [],
      "include_colab_link": true
    },
    "kernelspec": {
      "display_name": "Python 3",
      "name": "python3"
    },
    "language_info": {
      "name": "python"
    }
  },
  "nbformat": 4,
  "nbformat_minor": 0
}